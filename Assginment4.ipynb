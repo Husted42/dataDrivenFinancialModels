{
 "cells": [
  {
   "cell_type": "code",
   "execution_count": 15,
   "metadata": {},
   "outputs": [],
   "source": [
    "import numpy as np\n",
    "\n",
    "import matplotlib.pyplot as plt\n",
    "import matplotlib.patches as mpatches"
   ]
  },
  {
   "cell_type": "markdown",
   "metadata": {},
   "source": [
    "# Garbage"
   ]
  },
  {
   "cell_type": "code",
   "execution_count": null,
   "metadata": {},
   "outputs": [],
   "source": [
    "import matplotlib.pyplot as plt\n",
    "import numpy as np\n",
    "\n",
    "# Generate values for x and y such that x + y = 1\n",
    "x_values = np.linspace(0, 1, 100)\n",
    "y_values = 1 - x_values\n",
    "\n",
    "# Calculate the scatter points\n",
    "scatter_x = x_values * 0.1 + y_values * 0.2\n",
    "scatter_y = x_values * 0.1 + y_values * 0.2\n",
    "\n",
    "# Plot the line and scatter points\n",
    "fig, ax = plt.subplots()\n",
    "ax.plot(label=\"x + y = 1\")\n",
    "scatter = ax.scatter(scatter_x, scatter_y, c='orange', label=\"Scatter Points\",s = 10)\n",
    "\n",
    "# Add labels and legend\n",
    "ax.set_xlabel(\"Standard Deviation\")\n",
    "ax.set_ylabel(\"Mean Return\")\n",
    "ax.grid(True)\n",
    "plt.title(\"Line and Scatter Points for x + y = 1\")\n",
    "plt.show()"
   ]
  },
  {
   "cell_type": "markdown",
   "metadata": {},
   "source": [
    "# Functions"
   ]
  },
  {
   "cell_type": "code",
   "execution_count": null,
   "metadata": {},
   "outputs": [
    {
     "name": "stdout",
     "output_type": "stream",
     "text": [
      "Covariance matrix:\n",
      " [[0.0036 0.0009 0.0018]\n",
      " [0.0009 0.0009 0.0018]\n",
      " [0.0018 0.0018 0.0225]]\n",
      "Matrix A:\n",
      " [[ 0.0072  0.0018  0.0036 -0.09  ]\n",
      " [ 0.0018  0.0018  0.0036 -0.03  ]\n",
      " [ 0.0036  0.0036  0.045  -0.15  ]\n",
      " [ 0.09    0.03    0.15    0.    ]]\n",
      "Vector b: [0.   0.   0.   0.05]\n",
      "Optimal weights: [0.77777778 0.05555556 0.16666667]\n"
     ]
    },
    {
     "data": {
      "text/plain": [
       "array([0.77777778, 0.05555556, 0.16666667])"
      ]
     },
     "execution_count": 16,
     "metadata": {},
     "output_type": "execute_result"
    }
   ],
   "source": [
    "'''\n",
    "    Example from book p. 98\n",
    "     - SHORT SALES ALLOWED WITH RISKLESS LENDING AND BORROWING\n",
    "\n",
    "    mu : expected returns\n",
    "    sigma : standard deviations\n",
    "    RF : risk-free rate\n",
    "    cor : Correlation matrix\n",
    "'''\n",
    "def calculate_optimal_weights(mu : np.array, sigma : np.array, RF : float, cor : np.array, print_ = False) -> np.array:\n",
    "    # Covariance matrix\n",
    "    C = np.diag(sigma) @ cor @ np.diag(sigma)\n",
    "\n",
    "\n",
    "    # Construct matrix A\n",
    "    A = 2 * C\n",
    "    A = np.hstack((A, -(mu - RF).reshape(-1, 1)))\n",
    "    last_row = np.hstack(((mu - RF).reshape(1, -1), [[0]]))\n",
    "    A = np.vstack((A, last_row))\n",
    "\n",
    "    # Define b\n",
    "    Rp = 0.1\n",
    "    b = np.zeros(len(mu) + 1)\n",
    "    b[-1] = Rp - RF\n",
    "\n",
    "    # Solve for x\n",
    "    x = np.linalg.inv(A) @ b\n",
    "\n",
    "    # Optimal portfolio weights\n",
    "    number_of_assets = len(mu)\n",
    "    xopt = x[:number_of_assets] / np.sum(x[:number_of_assets])\n",
    "\n",
    "    if print_:\n",
    "        print(\"Covariance matrix:\\n\", C)\n",
    "        print(\"Matrix A:\\n\", A)\n",
    "        print(\"Vector b:\", b)\n",
    "        print(\"Optimal weights:\", xopt)\n",
    "    return xopt\n",
    "\n",
    "# Test code with example from book\n",
    "#   -> The answer is verified to be correct ie. the same as in the book\n",
    "mu = np.array([0.14, 0.08, 0.2]) # Expected returns\n",
    "RF = 0.05 # Risk-free rate\n",
    "\n",
    "sigma = np.array([0.06, 0.03, 0.15]) # Standard deviations\n",
    "cov = np.array([[1, 0.5, 0.2],\n",
    "              [0.5, 1, 0.4],\n",
    "              [0.2, 0.4, 1]]) # Correlation matrix\n",
    "\n",
    "\n",
    "calculate_optimal_weights(mu, sigma, RF, cov, print_ = True)"
   ]
  },
  {
   "cell_type": "markdown",
   "metadata": {},
   "source": [
    " # Task 1.1"
   ]
  },
  {
   "cell_type": "code",
   "execution_count": null,
   "metadata": {},
   "outputs": [
    {
     "name": "stdout",
     "output_type": "stream",
     "text": [
      "Optimal weights for cov(x_1, x_2) = 1\n",
      "[ 2. -1.] \n",
      "\n",
      "Optimal weights for cov(x_1, x_2) = .5\n",
      "[0.58333333 0.41666667] \n",
      "\n",
      "Optimal weights for cov(x_1, x_2) = 0\n",
      "[0.64 0.36] \n",
      "\n",
      "Optimal weights for cov(x_1, x_2) = 1\n",
      "[0.66666667 0.33333333] \n",
      "\n"
     ]
    }
   ],
   "source": [
    "print(\"Optimal weights for cov(x_1, x_2) = 1\")\n",
    "opt_1 = calculate_optimal_weights(\n",
    "    mu = np.array([0.1, 0.2]), \n",
    "    sigma = np.array([0.1, 0.2]), \n",
    "    RF = 0.02, \n",
    "    cor = np.array([[1, 1],\n",
    "                    [1, 1]])\n",
    ")\n",
    "print(opt_1, \"\\n\")\n",
    "\n",
    "print(\"Optimal weights for cov(x_1, x_2) = .5\")\n",
    "opt_2 =calculate_optimal_weights(\n",
    "    mu = np.array([0.1, 0.2]), \n",
    "    sigma = np.array([0.1, 0.2]), \n",
    "    RF = 0.02, \n",
    "    cor = np.array([[1, .5],\n",
    "                    [.5, 1]])\n",
    ")\n",
    "print(opt_2, \"\\n\")\n",
    "\n",
    "print(\"Optimal weights for cov(x_1, x_2) = 0\")\n",
    "opt_3 = calculate_optimal_weights(\n",
    "    mu = np.array([0.1, 0.2]), \n",
    "    sigma = np.array([0.1, 0.2]), \n",
    "    RF = 0.02, \n",
    "    cor = np.array([[1, 0],\n",
    "                    [0, 1]])\n",
    ")\n",
    "print(opt_3, \"\\n\")\n",
    "\n",
    "print(\"Optimal weights for cov(x_1, x_2) = -1\")\n",
    "opt_4 = calculate_optimal_weights(\n",
    "    mu = np.array([0.1, 0.2]), \n",
    "    sigma = np.array([0.1, 0.2]), \n",
    "    RF = 0.02, \n",
    "    cor = np.array([[1, -1],\n",
    "                    [-1, 1]])\n",
    ")\n",
    "print(opt_4, \"\\n\")\n"
   ]
  },
  {
   "cell_type": "code",
   "execution_count": 55,
   "metadata": {},
   "outputs": [
    {
     "data": {
      "image/png": "[encoded data removed]",
      "text/plain": [
       "<Figure size 640x480 with 1 Axes>"
      ]
     },
     "metadata": {},
     "output_type": "display_data"
    }
   ],
   "source": [
    "fig, ax = plt.subplots()\n",
    "ax.set_xlim(0, 0.25)  # Set x-axis limits\n",
    "ax.set_ylim(0, 0.25)  # Set x-axis limits\n",
    "\n",
    "scattter = ax.scatter(.10, .10, c='grey')  # Asset 1\n",
    "scattter = ax.scatter(.20, .20, c='grey')  # Asset 2\n",
    "scattter = ax.scatter(0, .02, c='grey')   # Risk-free asset\n",
    "\n",
    "''' Portefolio 1 (cov(x_1, x_2) = 1)\n",
    "    Optial weights : [2, -1]\n",
    "    Point : (0,0)\n",
    "\n",
    "    TODO: Not sure this is correct\n",
    "    Point is at (0,0) which makes sense since there is no risk in the portfolio\n",
    "    But we also shorten the second assets which means: \n",
    "        If assets one goes well : We get 2 * 10% of asset 1 and -1 * 20% of asset 2\n",
    "'''\n",
    "scattter = ax.scatter(opt_1[0] * .1 + opt_1[1] * .2, opt_1[0] * .1 + opt_1[1] * .2, c='red')  # Optimal portfolio\n",
    "\n",
    "''' Portefolio 2 (cov(x_1, x_2) = .5)\n",
    "    Optial weights : [0.58 0.42] \n",
    "    Point : (0.14, 0.14)\n",
    "'''\n",
    "scattter = ax.scatter(opt_2[0] * .1 + opt_2[1] * .2, opt_2[0] * .1 + opt_2[1] * .2, c='green')  # Optimal portfolio\n",
    "\n",
    "''' Portefolio 3 (cov(x_1, x_2) = 0)\n",
    "    Optial weights : [0.64 0.36] \n",
    "    Point : (0.136 0.136)\n",
    "\n",
    "    TODO : There must be a reason why we use approx 2/3 of the first asset and approx 1/3 of the second when there is no correlation\n",
    "'''\n",
    "scattter = ax.scatter(opt_3[0] * .1 + opt_3[1] * .2, opt_3[0] * .1 + opt_3[1] * .2, c='blue')  # Optimal portfolio\n",
    "\n",
    "''' Portefolio 4 (cov(x_1, x_2) = -1)\n",
    "    Optial weights : [0.67 0.33]\n",
    "    Point : (0.133, 0.133)\n",
    "\n",
    "    TODO : Not sure why we use 2/3 of the first asset and 1/3 of the second when they are negatively correlated\n",
    "'''\n",
    "scattter = ax.scatter(opt_4[0] * .1 + opt_4[1] * .2, opt_4[0] * .1 + opt_4[1] * .2, c='orange')  # Optimal portfolio\n",
    "\n",
    "# Add legend\n",
    "legend_patches = [\n",
    "    mpatches.Patch(color='grey', label='Asset 1 & 2'),\n",
    "    mpatches.Patch(color='black', label='Risk-free asset'),\n",
    "    mpatches.Patch(color='red', label='phi = 1)'),\n",
    "    mpatches.Patch(color='green', label='phi = 0.5)'),\n",
    "    mpatches.Patch(color='blue', label='phi = 0)'),\n",
    "    mpatches.Patch(color='orange', label='phi = -1)')\n",
    "]\n",
    "ax.legend(handles=legend_patches)\n",
    "ax.set_xlabel(\"Standard Deviation\")\n",
    "ax.set_ylabel(\"Mean Return\")\n",
    "ax.grid(True)\n",
    "\n",
    "plt.show()\n"
   ]
  },
  {
   "cell_type": "code",
   "execution_count": 77,
   "metadata": {},
   "outputs": [
    {
     "name": "stdout",
     "output_type": "stream",
     "text": [
      "1.0 2.0816681711721685e-17\n"
     ]
    },
    {
     "data": {
      "image/png": "[encoded data removed]",
      "text/plain": [
       "<Figure size 640x480 with 1 Axes>"
      ]
     },
     "metadata": {},
     "output_type": "display_data"
    }
   ],
   "source": [
    "'''\n",
    "     We find the efficient frontier by fitting a linear regression model to the optimal portfolios\n",
    "     TODO : Is this an optimal way to find the efficient frontier? - Maybe we need the risk-free rate to solve this\n",
    "'''\n",
    "\n",
    "fig, ax = plt.subplots()\n",
    "\n",
    "# Fit linear regression model\n",
    "x = [opt_1[0] * .1 + opt_1[1] * .2,\n",
    "     opt_2[0] * .1 + opt_2[1] * .2,\n",
    "     opt_3[0] * .1 + opt_3[1] * .2,\n",
    "     opt_4[0] * .1 + opt_4[1] * .2]\n",
    "\n",
    "y = [opt_1[0] * .1 + opt_1[1] * .2,\n",
    "     opt_2[0] * .1 + opt_2[1] * .2,\n",
    "     opt_3[0] * .1 + opt_3[1] * .2,\n",
    "     opt_4[0] * .1 + opt_4[1] * .2]\n",
    "\n",
    "slope, intercept = np.polyfit(x, y, 1)\n",
    "if 1 : print(slope, intercept)\n",
    "\n",
    "# Plot the line and scatter points\n",
    "x_fit = np.linspace(0, 0.01, 10000)\n",
    "y_fit = slope * x_fit + intercept\n",
    "\n",
    "scatter = ax.scatter(x_fit, y_fit, c='red', s = 5)\n",
    "\n",
    "ax.set_xlabel(\"Standard Deviation\")\n",
    "ax.set_ylabel(\"Mean Return\")\n",
    "ax.grid(True)\n",
    "plt.title(\"The efficient frontier\")\n",
    "plt.show()"
   ]
  }
 ],
 "metadata": {
  "kernelspec": {
   "display_name": ".venv",
   "language": "python",
   "name": "python3"
  },
  "language_info": {
   "codemirror_mode": {
    "name": "ipython",
    "version": 3
   },
   "file_extension": ".py",
   "mimetype": "text/x-python",
   "name": "python",
   "nbconvert_exporter": "python",
   "pygments_lexer": "ipython3",
   "version": "3.12.7"
  }
 },
 "nbformat": 4,
 "nbformat_minor": 2
}
